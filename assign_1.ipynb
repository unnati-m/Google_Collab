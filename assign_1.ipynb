{
  "nbformat": 4,
  "nbformat_minor": 0,
  "metadata": {
    "colab": {
      "name": "assign_1",
      "provenance": [],
      "authorship_tag": "ABX9TyMxSh1xs0V+eN1CiK8g8FXX",
      "include_colab_link": true
    },
    "kernelspec": {
      "name": "python3",
      "display_name": "Python 3"
    },
    "language_info": {
      "name": "python"
    }
  },
  "cells": [
    {
      "cell_type": "markdown",
      "metadata": {
        "id": "view-in-github",
        "colab_type": "text"
      },
      "source": [
        "<a href=\"https://colab.research.google.com/github/unnati-m/Google_Collab/blob/master/assign_1.ipynb\" target=\"_parent\"><img src=\"https://colab.research.google.com/assets/colab-badge.svg\" alt=\"Open In Colab\"/></a>"
      ]
    },
    {
      "cell_type": "markdown",
      "source": [
        "1.Write a program that reads an unspecified number of integers, determines how many positive and negative values have been read, and computes the total and average of the input values (not counting zeros). Your program ends with the input 0. Display the average as a floating-point number."
      ],
      "metadata": {
        "id": "A6KfCX-O26JD"
      }
    },
    {
      "cell_type": "code",
      "source": [
        "nums = list(map(int , input(\"Enter the numbers: \").split()))\n",
        "pos,neg=0,0\n",
        "total,avg=0,0\n",
        "for x in nums:\n",
        "  if x>=0:\n",
        "    pos+=1\n",
        "  else:\n",
        "    neg+=1\n",
        "  total=total+x\n",
        "avg=total/len(nums)\n",
        "print(\"Positive integers are:\",pos)\n",
        "print(\"Negative integers are:\",neg)\n",
        "print(\"total is:\",total)\n",
        "print(\"Average is:\",avg)"
      ],
      "metadata": {
        "colab": {
          "base_uri": "https://localhost:8080/"
        },
        "id": "B8ww5URU2tza",
        "outputId": "b0ef90cc-02fe-4ba3-927d-421019e68eef"
      },
      "execution_count": 4,
      "outputs": [
        {
          "output_type": "stream",
          "name": "stdout",
          "text": [
            "Enter the numbers: 3 4 5 -3 -1 0\n",
            "Positive integers are: 4\n",
            "Negative integers are: 2\n",
            "total is: 8\n",
            "Average is: 1.3333333333333333\n"
          ]
        }
      ]
    },
    {
      "cell_type": "markdown",
      "source": [
        "2.(Financial application: compute future tuition) Suppose that the tuition for a university is $10,000 this year and increases 5% every year. Write a program that computes the tuition in ten years and the total cost of four years’ worth of tuition starting ten years from now."
      ],
      "metadata": {
        "id": "uPBfjqQQ3Jvi"
      }
    },
    {
      "cell_type": "code",
      "source": [
        "x = 10000\n",
        "y = 10\n",
        "\n",
        "while(y):\n",
        "  res = (x/100)*5\n",
        "  x += res\n",
        "  y -= 1\n",
        "\n",
        "print(f'Tuition in 10 years: {round(x)}')\n",
        "\n",
        "fnl = x\n",
        "g = 3\n",
        "while(g):\n",
        "  res = (x/100)*5\n",
        "  x += res\n",
        "  fnl += x\n",
        "  g -= 1\n",
        "\n",
        "print(f'Tuition for 4 years starting 10 years from now: {fnl}')"
      ],
      "metadata": {
        "colab": {
          "base_uri": "https://localhost:8080/"
        },
        "id": "zwSpgoLR3PuB",
        "outputId": "2152d0b0-8c99-4f7d-c70a-9077387bf108"
      },
      "execution_count": 11,
      "outputs": [
        {
          "output_type": "stream",
          "name": "stdout",
          "text": [
            "Tuition in 10 years: 16289\n",
            "Tuition for 4 years starting 10 years from now: 70207.39453239119\n"
          ]
        }
      ]
    },
    {
      "cell_type": "markdown",
      "source": [
        "3.(Find the highest score) Write a program that prompts the user to enter the number of students and each student’s score, and displays the highest score."
      ],
      "metadata": {
        "id": "Wbe02YX75BnT"
      }
    },
    {
      "cell_type": "code",
      "source": [
        "n = int(input('Enter the number of students: '))\n",
        "l = []\n",
        "for i in range(n):\n",
        "  s = int(input(f'Enter score of student {i+1}: '))\n",
        "  l.append(s)\n",
        "h=0\n",
        "for i in l:\n",
        "  if h<i:\n",
        "    h=i\n",
        "\n",
        "print(f'Highest score is: {h}')"
      ],
      "metadata": {
        "colab": {
          "base_uri": "https://localhost:8080/"
        },
        "id": "phNp4UKO5GjU",
        "outputId": "d33e78e8-b021-4ce9-d3cb-8d2861304a41"
      },
      "execution_count": 12,
      "outputs": [
        {
          "output_type": "stream",
          "name": "stdout",
          "text": [
            "Enter the number of students: 5\n",
            "Enter score of student 1: 67\n",
            "Enter score of student 2: 78\n",
            "Enter score of student 3: 63\n",
            "Enter score of student 4: 82\n",
            "Enter score of student 5: 89\n",
            "Highest score is: 89\n"
          ]
        }
      ]
    },
    {
      "cell_type": "markdown",
      "source": [
        "4.(Find the two highest scores) Write a program that prompts the user to enter the number of students and each student’s score, and displays the highest and secondhighest scores."
      ],
      "metadata": {
        "id": "979XECRl5Uo8"
      }
    },
    {
      "cell_type": "code",
      "source": [
        "n = int(input('Enter the number of students: '))\n",
        "l = []\n",
        "for i in range(n):\n",
        "  s = int(input(f'Enter score of student {i+1}: '))\n",
        "  l.append(s)\n",
        "h=0\n",
        "sc = 0\n",
        "for i in l:\n",
        "  if h<i:\n",
        "    sh = h\n",
        "    h=i\n",
        "\n",
        "print(f'Highest score is: {h} and second-highest score is {sh}')"
      ],
      "metadata": {
        "colab": {
          "base_uri": "https://localhost:8080/"
        },
        "id": "5nnZmGuU5YEY",
        "outputId": "0d7adf5c-3f80-4924-e068-a4165f1e5078"
      },
      "execution_count": 13,
      "outputs": [
        {
          "output_type": "stream",
          "name": "stdout",
          "text": [
            "Enter the number of students: 5\n",
            "Enter score of student 1: 77\n",
            "Enter score of student 2: 65\n",
            "Enter score of student 3: 81\n",
            "Enter score of student 4: 86\n",
            "Enter score of student 5: 90\n",
            "Highest score is: 90 and second-highest score is 86\n"
          ]
        }
      ]
    },
    {
      "cell_type": "markdown",
      "source": [
        "5.(Find numbers divisible by 5 and 6) Write a program that displays, ten numbers per line, all the numbers from 100 to 1,000 that are divisible by 5 and 6. The numbers are separated by exactly one space."
      ],
      "metadata": {
        "id": "oeJ6MIFU5jDZ"
      }
    },
    {
      "cell_type": "code",
      "source": [
        "for i in range(100, 1001):\n",
        "  if i%5==0 or i%6==0:\n",
        "    print(i, end = ' ')"
      ],
      "metadata": {
        "colab": {
          "base_uri": "https://localhost:8080/"
        },
        "id": "8oaQhyns5oLm",
        "outputId": "b0d10c8a-6d37-4722-ef17-95beef573b06"
      },
      "execution_count": 14,
      "outputs": [
        {
          "output_type": "stream",
          "name": "stdout",
          "text": [
            "100 102 105 108 110 114 115 120 125 126 130 132 135 138 140 144 145 150 155 156 160 162 165 168 170 174 175 180 185 186 190 192 195 198 200 204 205 210 215 216 220 222 225 228 230 234 235 240 245 246 250 252 255 258 260 264 265 270 275 276 280 282 285 288 290 294 295 300 305 306 310 312 315 318 320 324 325 330 335 336 340 342 345 348 350 354 355 360 365 366 370 372 375 378 380 384 385 390 395 396 400 402 405 408 410 414 415 420 425 426 430 432 435 438 440 444 445 450 455 456 460 462 465 468 470 474 475 480 485 486 490 492 495 498 500 504 505 510 515 516 520 522 525 528 530 534 535 540 545 546 550 552 555 558 560 564 565 570 575 576 580 582 585 588 590 594 595 600 605 606 610 612 615 618 620 624 625 630 635 636 640 642 645 648 650 654 655 660 665 666 670 672 675 678 680 684 685 690 695 696 700 702 705 708 710 714 715 720 725 726 730 732 735 738 740 744 745 750 755 756 760 762 765 768 770 774 775 780 785 786 790 792 795 798 800 804 805 810 815 816 820 822 825 828 830 834 835 840 845 846 850 852 855 858 860 864 865 870 875 876 880 882 885 888 890 894 895 900 905 906 910 912 915 918 920 924 925 930 935 936 940 942 945 948 950 954 955 960 965 966 970 972 975 978 980 984 985 990 995 996 1000 "
          ]
        }
      ]
    },
    {
      "cell_type": "markdown",
      "source": [
        "6.Write a program that reads an integer and displays all its smallest factors, also known as prime factors. For example, if the input integer is 120, the output should be as follows: 2, 2, 2, 3, 5"
      ],
      "metadata": {
        "id": "2gecxwog5sRA"
      }
    },
    {
      "cell_type": "code",
      "source": [
        "n = int(input(\"Enter a number: \"))\n",
        "i = 2\n",
        "while i<n+1:\n",
        "  if n%i == 0:\n",
        "    print(i, end = ', ')\n",
        "    n = n/i\n",
        "  else:\n",
        "    i += 1"
      ],
      "metadata": {
        "colab": {
          "base_uri": "https://localhost:8080/"
        },
        "id": "0C1rO7q_5vFe",
        "outputId": "b0492e2c-100b-4222-9b63-34c52be0ec59"
      },
      "execution_count": 15,
      "outputs": [
        {
          "output_type": "stream",
          "name": "stdout",
          "text": [
            "Enter a number: 46\n",
            "2, 23, "
          ]
        }
      ]
    },
    {
      "cell_type": "markdown",
      "source": [
        ""
      ],
      "metadata": {
        "id": "Xtje9xXM50u_"
      }
    },
    {
      "cell_type": "markdown",
      "source": [
        "7.Write a program to prints all letters except ‘y' and 't' in the string \"Basic python Programming\" using continue statement."
      ],
      "metadata": {
        "id": "NhRqF3Wl50xG"
      }
    },
    {
      "cell_type": "code",
      "source": [
        "st = 'Basic python Programming'\n",
        "for x in st:\n",
        "  l = \"\"\n",
        "  for y in x:\n",
        "    if(y!='y' and y!='t'):\n",
        "      l+=y\n",
        "    else:\n",
        "      continue\n",
        "  print(l, end=\"\")"
      ],
      "metadata": {
        "colab": {
          "base_uri": "https://localhost:8080/"
        },
        "id": "xCTCOxMy53yG",
        "outputId": "7ce392bc-71a8-4c97-9818-3efd35933636"
      },
      "execution_count": 16,
      "outputs": [
        {
          "output_type": "stream",
          "name": "stdout",
          "text": [
            "Basic phon Programming"
          ]
        }
      ]
    },
    {
      "cell_type": "markdown",
      "source": [
        "8.Write a program to prints letters in the string \"Basic python Programming\" except \"g\" using break statement."
      ],
      "metadata": {
        "id": "sHdgsmFw58eS"
      }
    },
    {
      "cell_type": "code",
      "source": [
        "s = 'Basic python Programming'\n",
        "for i in s:\n",
        "  if i == 'g':\n",
        "    break\n",
        "  else:\n",
        "    print(i, end = '')"
      ],
      "metadata": {
        "colab": {
          "base_uri": "https://localhost:8080/"
        },
        "id": "NgtMQohA5_Ib",
        "outputId": "2b6dfdc9-6840-431e-d2f4-e4bb3b75b2d2"
      },
      "execution_count": 17,
      "outputs": [
        {
          "output_type": "stream",
          "name": "stdout",
          "text": [
            "Basic python Pro"
          ]
        }
      ]
    },
    {
      "cell_type": "markdown",
      "source": [
        "9.Write a program to print table of given number using while loop"
      ],
      "metadata": {
        "id": "OZw30kYa6DMF"
      }
    },
    {
      "cell_type": "code",
      "source": [
        "n = int(input('Enter a number: '))\n",
        "i = 1\n",
        "while i<11:\n",
        "  print(f'{n} * {i} = {n*i}')\n",
        "  i += 1"
      ],
      "metadata": {
        "colab": {
          "base_uri": "https://localhost:8080/"
        },
        "id": "UXzKz7gI6I_A",
        "outputId": "d639e253-18a0-4451-af1a-64ad77e54df5"
      },
      "execution_count": 18,
      "outputs": [
        {
          "output_type": "stream",
          "name": "stdout",
          "text": [
            "Enter a number: 24\n",
            "24 * 1 = 24\n",
            "24 * 2 = 48\n",
            "24 * 3 = 72\n",
            "24 * 4 = 96\n",
            "24 * 5 = 120\n",
            "24 * 6 = 144\n",
            "24 * 7 = 168\n",
            "24 * 8 = 192\n",
            "24 * 9 = 216\n",
            "24 * 10 = 240\n"
          ]
        }
      ]
    },
    {
      "cell_type": "markdown",
      "source": [
        "10.Write a program to print the following pattern using for loops.\n",
        "1\n",
        "11\n",
        "111\n",
        "1111\n",
        "11111"
      ],
      "metadata": {
        "id": "KgGZuZA26Q27"
      }
    },
    {
      "cell_type": "code",
      "source": [
        "for i in range(6):\n",
        "  print('1'*i)"
      ],
      "metadata": {
        "colab": {
          "base_uri": "https://localhost:8080/"
        },
        "id": "-xMxy8yq6VNG",
        "outputId": "5dd2a6eb-3b12-43dc-bc14-18c4228fc960"
      },
      "execution_count": 19,
      "outputs": [
        {
          "output_type": "stream",
          "name": "stdout",
          "text": [
            "\n",
            "1\n",
            "11\n",
            "111\n",
            "1111\n",
            "11111\n"
          ]
        }
      ]
    },
    {
      "cell_type": "markdown",
      "source": [
        "11.Write a program to print the following pattern using for loops.\n",
        "    *\n",
        "   * *\n",
        "  * * *\n",
        " * * * *\n",
        "* * * * *"
      ],
      "metadata": {
        "id": "AUPimVMC6d2D"
      }
    },
    {
      "cell_type": "code",
      "source": [
        "for i in range(1,6):\n",
        "  print(' '*abs(i-5),end = '')\n",
        "  print('* '*i)"
      ],
      "metadata": {
        "colab": {
          "base_uri": "https://localhost:8080/"
        },
        "id": "JJq1Ixvs6kUV",
        "outputId": "c6c00b6a-84be-4931-b89e-08dbc470fd55"
      },
      "execution_count": 20,
      "outputs": [
        {
          "output_type": "stream",
          "name": "stdout",
          "text": [
            "    * \n",
            "   * * \n",
            "  * * * \n",
            " * * * * \n",
            "* * * * * \n"
          ]
        }
      ]
    },
    {
      "cell_type": "code",
      "source": [
        "12.Write a program to check whether the given number is a Palindrome Number using Function. (use looping stmt)"
      ],
      "metadata": {
        "id": "HOzuEVXG6pFn"
      },
      "execution_count": null,
      "outputs": []
    },
    {
      "cell_type": "code",
      "source": [
        "def checkPalindrome(n):\n",
        "  temp=n\n",
        "  rev=0\n",
        "  while(n>0):\n",
        "      dig=n%10\n",
        "      rev=rev*10+dig\n",
        "      n=n//10\n",
        "  if(temp==rev):\n",
        "      print(\"The number is a palindrome!\")\n",
        "  else:\n",
        "      print(\"The number isn't a palindrome!\")\n",
        "\n",
        "n=int(input(\"Enter number: \"))\n",
        "checkPalindrome(n)"
      ],
      "metadata": {
        "colab": {
          "base_uri": "https://localhost:8080/"
        },
        "id": "3dxTqF0C6sns",
        "outputId": "56430d23-6571-4272-890d-f0341d1b46fb"
      },
      "execution_count": 21,
      "outputs": [
        {
          "output_type": "stream",
          "name": "stdout",
          "text": [
            "Enter number: 454\n",
            "The number is a palindrome!\n"
          ]
        }
      ]
    }
  ]
}