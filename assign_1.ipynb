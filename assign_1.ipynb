{
  "nbformat": 4,
  "nbformat_minor": 0,
  "metadata": {
    "colab": {
      "name": "assign_1",
      "provenance": [],
      "authorship_tag": "ABX9TyNKCQXnd4l6cgWk03fpxdLy",
      "include_colab_link": true
    },
    "kernelspec": {
      "name": "python3",
      "display_name": "Python 3"
    },
    "language_info": {
      "name": "python"
    }
  },
  "cells": [
    {
      "cell_type": "markdown",
      "metadata": {
        "id": "view-in-github",
        "colab_type": "text"
      },
      "source": [
        "<a href=\"https://colab.research.google.com/github/unnati-m/unnati/blob/master/assign_1.ipynb\" target=\"_parent\"><img src=\"https://colab.research.google.com/assets/colab-badge.svg\" alt=\"Open In Colab\"/></a>"
      ]
    },
    {
      "cell_type": "code",
      "execution_count": null,
      "metadata": {
        "colab": {
          "base_uri": "https://localhost:8080/"
        },
        "id": "eYeFsHKgwRJh",
        "outputId": "22da8cbf-eae4-4573-8196-3c05f9cb4045"
      },
      "outputs": [
        {
          "output_type": "stream",
          "name": "stdout",
          "text": [
            "Enter the numbers: 1 2 3 44 -5\n",
            "Positive integers are: 4\n",
            "Negative integers are: 1\n",
            "total is: 45\n",
            "Average is: 9.0\n"
          ]
        }
      ],
      "source": [
        "nums = list(map(int , input(\"Enter the numbers: \").split()))\n",
        "pos,neg=0,0\n",
        "total,avg=0,0\n",
        "for x in nums:\n",
        "  if x>=0:\n",
        "    pos+=1\n",
        "  else:\n",
        "    neg+=1\n",
        "  total=total+x\n",
        "avg=total/len(nums)\n",
        "print(\"Positive integers are:\",pos)\n",
        "print(\"Negative integers are:\",neg)\n",
        "print(\"total is:\",total)\n",
        "print(\"Average is:\",avg)\n",
        "\n"
      ]
    },
    {
      "cell_type": "code",
      "source": [
        ""
      ],
      "metadata": {
        "id": "JgRFEkvj3Y-i"
      },
      "execution_count": null,
      "outputs": []
    }
  ]
}